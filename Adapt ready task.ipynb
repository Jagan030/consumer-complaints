{
 "cells": [
  {
   "cell_type": "code",
   "execution_count": 3,
   "metadata": {},
   "outputs": [
    {
     "name": "stdout",
     "output_type": "stream",
     "text": [
      "Requirement already satisfied: pandas in c:\\users\\dell\\appdata\\local\\programs\\python\\python311\\lib\\site-packages (2.1.0)\n",
      "Requirement already satisfied: numpy>=1.23.2 in c:\\users\\dell\\appdata\\local\\programs\\python\\python311\\lib\\site-packages (from pandas) (1.25.2)\n",
      "Requirement already satisfied: python-dateutil>=2.8.2 in c:\\users\\dell\\appdata\\local\\programs\\python\\python311\\lib\\site-packages (from pandas) (2.8.2)\n",
      "Requirement already satisfied: pytz>=2020.1 in c:\\users\\dell\\appdata\\local\\programs\\python\\python311\\lib\\site-packages (from pandas) (2023.3)\n",
      "Requirement already satisfied: tzdata>=2022.1 in c:\\users\\dell\\appdata\\local\\programs\\python\\python311\\lib\\site-packages (from pandas) (2023.3)\n",
      "Requirement already satisfied: six>=1.5 in c:\\users\\dell\\appdata\\local\\programs\\python\\python311\\lib\\site-packages (from python-dateutil>=2.8.2->pandas) (1.16.0)\n",
      "Note: you may need to restart the kernel to use updated packages.\n"
     ]
    }
   ],
   "source": [
    "pip install pandas"
   ]
  },
  {
   "cell_type": "code",
   "execution_count": null,
   "metadata": {},
   "outputs": [],
   "source": [
    "#1.Download the data from the file data source and provide possible data insights."
   ]
  },
  {
   "cell_type": "code",
   "execution_count": 6,
   "metadata": {},
   "outputs": [
    {
     "name": "stdout",
     "output_type": "stream",
     "text": [
      "Requirement already satisfied: nltk in c:\\users\\dell\\appdata\\local\\programs\\python\\python311\\lib\\site-packages (3.8.1)\n",
      "Requirement already satisfied: click in c:\\users\\dell\\appdata\\local\\programs\\python\\python311\\lib\\site-packages (from nltk) (8.1.7)\n",
      "Requirement already satisfied: joblib in c:\\users\\dell\\appdata\\local\\programs\\python\\python311\\lib\\site-packages (from nltk) (1.3.2)\n",
      "Requirement already satisfied: regex>=2021.8.3 in c:\\users\\dell\\appdata\\local\\programs\\python\\python311\\lib\\site-packages (from nltk) (2023.10.3)\n",
      "Requirement already satisfied: tqdm in c:\\users\\dell\\appdata\\local\\programs\\python\\python311\\lib\\site-packages (from nltk) (4.66.4)\n",
      "Requirement already satisfied: colorama in c:\\users\\dell\\appdata\\local\\programs\\python\\python311\\lib\\site-packages (from click->nltk) (0.4.6)\n",
      "Requirement already satisfied: textblob in c:\\users\\dell\\appdata\\local\\programs\\python\\python311\\lib\\site-packages (0.18.0.post0)\n",
      "Requirement already satisfied: nltk>=3.8 in c:\\users\\dell\\appdata\\local\\programs\\python\\python311\\lib\\site-packages (from textblob) (3.8.1)\n",
      "Requirement already satisfied: click in c:\\users\\dell\\appdata\\local\\programs\\python\\python311\\lib\\site-packages (from nltk>=3.8->textblob) (8.1.7)\n",
      "Requirement already satisfied: joblib in c:\\users\\dell\\appdata\\local\\programs\\python\\python311\\lib\\site-packages (from nltk>=3.8->textblob) (1.3.2)\n",
      "Requirement already satisfied: regex>=2021.8.3 in c:\\users\\dell\\appdata\\local\\programs\\python\\python311\\lib\\site-packages (from nltk>=3.8->textblob) (2023.10.3)\n",
      "Requirement already satisfied: tqdm in c:\\users\\dell\\appdata\\local\\programs\\python\\python311\\lib\\site-packages (from nltk>=3.8->textblob) (4.66.4)\n",
      "Requirement already satisfied: colorama in c:\\users\\dell\\appdata\\local\\programs\\python\\python311\\lib\\site-packages (from click->nltk>=3.8->textblob) (0.4.6)\n"
     ]
    }
   ],
   "source": [
    "import numpy as np\n",
    "import pandas as pd\n",
    "import matplotlib.pyplot as plt\n",
    "import string\n",
    "!pip install nltk\n",
    "\n",
    "from nltk.corpus import stopwords\n",
    "from sklearn.feature_extraction.text import TfidfVectorizer\n",
    "import sklearn.model_selection as ms\n",
    "from sklearn.model_selection import train_test_split, cross_val_score\n",
    "import os\n",
    "from itertools import cycle\n",
    "!pip install textblob\n",
    "\n",
    "from textblob import TextBlob\n",
    "from nltk.stem import PorterStemmer\n",
    "from textblob import Word\n",
    "from sklearn.feature_extraction.text import CountVectorizer\n",
    "from sklearn import preprocessing, linear_model, metrics, datasets, multiclass, svm\n",
    "import seaborn as sns\n",
    "import numpy.random as nr"
   ]
  },
  {
   "cell_type": "code",
   "execution_count": 13,
   "metadata": {},
   "outputs": [
    {
     "name": "stderr",
     "output_type": "stream",
     "text": [
      "C:\\Users\\DELL\\AppData\\Local\\Temp\\ipykernel_2424\\4200022238.py:1: DtypeWarning: Columns (16) have mixed types. Specify dtype option on import or set low_memory=False.\n",
      "  df = pd.read_csv(\"C:/Users/DELL/Downloads/complaints.csv (1)/complaints.csv\")\n"
     ]
    }
   ],
   "source": [
    "df = pd.read_csv(\"C:/Users/DELL/Downloads/complaints.csv (1)/complaints.csv\")"
   ]
  },
  {
   "cell_type": "code",
   "execution_count": null,
   "metadata": {},
   "outputs": [
    {
     "data": {
      "text/html": [
       "<div>\n",
       "<style scoped>\n",
       "    .dataframe tbody tr th:only-of-type {\n",
       "        vertical-align: middle;\n",
       "    }\n",
       "\n",
       "    .dataframe tbody tr th {\n",
       "        vertical-align: top;\n",
       "    }\n",
       "\n",
       "    .dataframe thead th {\n",
       "        text-align: right;\n",
       "    }\n",
       "</style>\n",
       "<table border=\"1\" class=\"dataframe\">\n",
       "  <thead>\n",
       "    <tr style=\"text-align: right;\">\n",
       "      <th></th>\n",
       "      <th>Date received</th>\n",
       "      <th>Product</th>\n",
       "      <th>Sub-product</th>\n",
       "      <th>Issue</th>\n",
       "      <th>Sub-issue</th>\n",
       "      <th>Consumer complaint narrative</th>\n",
       "      <th>Company public response</th>\n",
       "      <th>Company</th>\n",
       "      <th>State</th>\n",
       "      <th>ZIP code</th>\n",
       "      <th>Tags</th>\n",
       "      <th>Consumer consent provided?</th>\n",
       "      <th>Submitted via</th>\n",
       "      <th>Date sent to company</th>\n",
       "      <th>Company response to consumer</th>\n",
       "      <th>Timely response?</th>\n",
       "      <th>Consumer disputed?</th>\n",
       "      <th>Complaint ID</th>\n",
       "    </tr>\n",
       "  </thead>\n",
       "  <tbody>\n",
       "    <tr>\n",
       "      <th>0</th>\n",
       "      <td>2024-01-24</td>\n",
       "      <td>Credit reporting or other personal consumer re...</td>\n",
       "      <td>Credit reporting</td>\n",
       "      <td>Incorrect information on your report</td>\n",
       "      <td>Account information incorrect</td>\n",
       "      <td>NaN</td>\n",
       "      <td>Company has responded to the consumer and the ...</td>\n",
       "      <td>TRANSUNION INTERMEDIATE HOLDINGS, INC.</td>\n",
       "      <td>FL</td>\n",
       "      <td>33578</td>\n",
       "      <td>NaN</td>\n",
       "      <td>Consent not provided</td>\n",
       "      <td>Web</td>\n",
       "      <td>2024-01-24</td>\n",
       "      <td>Closed with explanation</td>\n",
       "      <td>Yes</td>\n",
       "      <td>NaN</td>\n",
       "      <td>8205544</td>\n",
       "    </tr>\n",
       "    <tr>\n",
       "      <th>1</th>\n",
       "      <td>2024-02-26</td>\n",
       "      <td>Debt collection</td>\n",
       "      <td>Other debt</td>\n",
       "      <td>Threatened to contact someone or share informa...</td>\n",
       "      <td>Talked to a third-party about your debt</td>\n",
       "      <td>NaN</td>\n",
       "      <td>NaN</td>\n",
       "      <td>Marlette Funding, LLC</td>\n",
       "      <td>IL</td>\n",
       "      <td>60060</td>\n",
       "      <td>NaN</td>\n",
       "      <td>Consent not provided</td>\n",
       "      <td>Web</td>\n",
       "      <td>2024-02-26</td>\n",
       "      <td>Closed with explanation</td>\n",
       "      <td>Yes</td>\n",
       "      <td>NaN</td>\n",
       "      <td>8424268</td>\n",
       "    </tr>\n",
       "    <tr>\n",
       "      <th>2</th>\n",
       "      <td>2024-02-26</td>\n",
       "      <td>Credit reporting or other personal consumer re...</td>\n",
       "      <td>Credit reporting</td>\n",
       "      <td>Incorrect information on your report</td>\n",
       "      <td>Information belongs to someone else</td>\n",
       "      <td>NaN</td>\n",
       "      <td>Company believes it acted appropriately as aut...</td>\n",
       "      <td>CCS Financial Services, Inc.</td>\n",
       "      <td>NC</td>\n",
       "      <td>27536</td>\n",
       "      <td>NaN</td>\n",
       "      <td>Consent not provided</td>\n",
       "      <td>Web</td>\n",
       "      <td>2024-02-26</td>\n",
       "      <td>Closed with non-monetary relief</td>\n",
       "      <td>Yes</td>\n",
       "      <td>NaN</td>\n",
       "      <td>8423775</td>\n",
       "    </tr>\n",
       "    <tr>\n",
       "      <th>3</th>\n",
       "      <td>2024-02-20</td>\n",
       "      <td>Credit reporting or other personal consumer re...</td>\n",
       "      <td>Credit reporting</td>\n",
       "      <td>Improper use of your report</td>\n",
       "      <td>Reporting company used your report improperly</td>\n",
       "      <td>I am disappointed to have received a credit re...</td>\n",
       "      <td>NaN</td>\n",
       "      <td>LEXISNEXIS</td>\n",
       "      <td>CA</td>\n",
       "      <td>94124</td>\n",
       "      <td>NaN</td>\n",
       "      <td>Consent provided</td>\n",
       "      <td>Web</td>\n",
       "      <td>2024-02-20</td>\n",
       "      <td>Closed with explanation</td>\n",
       "      <td>Yes</td>\n",
       "      <td>NaN</td>\n",
       "      <td>8379830</td>\n",
       "    </tr>\n",
       "    <tr>\n",
       "      <th>4</th>\n",
       "      <td>2024-01-26</td>\n",
       "      <td>Credit reporting or other personal consumer re...</td>\n",
       "      <td>Credit reporting</td>\n",
       "      <td>Incorrect information on your report</td>\n",
       "      <td>Information belongs to someone else</td>\n",
       "      <td>The companies, along with the credit reporting...</td>\n",
       "      <td>NaN</td>\n",
       "      <td>EQUIFAX, INC.</td>\n",
       "      <td>NC</td>\n",
       "      <td>28804</td>\n",
       "      <td>NaN</td>\n",
       "      <td>Consent provided</td>\n",
       "      <td>Web</td>\n",
       "      <td>2024-01-26</td>\n",
       "      <td>Closed with non-monetary relief</td>\n",
       "      <td>Yes</td>\n",
       "      <td>NaN</td>\n",
       "      <td>8232435</td>\n",
       "    </tr>\n",
       "    <tr>\n",
       "      <th>...</th>\n",
       "      <td>...</td>\n",
       "      <td>...</td>\n",
       "      <td>...</td>\n",
       "      <td>...</td>\n",
       "      <td>...</td>\n",
       "      <td>...</td>\n",
       "      <td>...</td>\n",
       "      <td>...</td>\n",
       "      <td>...</td>\n",
       "      <td>...</td>\n",
       "      <td>...</td>\n",
       "      <td>...</td>\n",
       "      <td>...</td>\n",
       "      <td>...</td>\n",
       "      <td>...</td>\n",
       "      <td>...</td>\n",
       "      <td>...</td>\n",
       "      <td>...</td>\n",
       "    </tr>\n",
       "    <tr>\n",
       "      <th>5167777</th>\n",
       "      <td>2023-08-02</td>\n",
       "      <td>Credit reporting, credit repair services, or o...</td>\n",
       "      <td>Credit reporting</td>\n",
       "      <td>Incorrect information on your report</td>\n",
       "      <td>Information belongs to someone else</td>\n",
       "      <td>NaN</td>\n",
       "      <td>NaN</td>\n",
       "      <td>EQUIFAX, INC.</td>\n",
       "      <td>TX</td>\n",
       "      <td>76036</td>\n",
       "      <td>NaN</td>\n",
       "      <td>Other</td>\n",
       "      <td>Web</td>\n",
       "      <td>2023-08-02</td>\n",
       "      <td>Closed with non-monetary relief</td>\n",
       "      <td>Yes</td>\n",
       "      <td>NaN</td>\n",
       "      <td>7337991</td>\n",
       "    </tr>\n",
       "    <tr>\n",
       "      <th>5167778</th>\n",
       "      <td>2023-08-02</td>\n",
       "      <td>Payday loan, title loan, or personal loan</td>\n",
       "      <td>Installment loan</td>\n",
       "      <td>Problem with additional add-on products or ser...</td>\n",
       "      <td>NaN</td>\n",
       "      <td>NaN</td>\n",
       "      <td>NaN</td>\n",
       "      <td>NBT BANCORP INC.</td>\n",
       "      <td>NJ</td>\n",
       "      <td>08046</td>\n",
       "      <td>NaN</td>\n",
       "      <td>NaN</td>\n",
       "      <td>Phone</td>\n",
       "      <td>2023-08-02</td>\n",
       "      <td>Closed with explanation</td>\n",
       "      <td>Yes</td>\n",
       "      <td>NaN</td>\n",
       "      <td>7343156</td>\n",
       "    </tr>\n",
       "    <tr>\n",
       "      <th>5167779</th>\n",
       "      <td>2023-08-02</td>\n",
       "      <td>Mortgage</td>\n",
       "      <td>FHA mortgage</td>\n",
       "      <td>Struggling to pay mortgage</td>\n",
       "      <td>NaN</td>\n",
       "      <td>NaN</td>\n",
       "      <td>Company believes it acted appropriately as aut...</td>\n",
       "      <td>Chesmar Homes</td>\n",
       "      <td>TX</td>\n",
       "      <td>77316</td>\n",
       "      <td>NaN</td>\n",
       "      <td>Other</td>\n",
       "      <td>Web</td>\n",
       "      <td>2023-08-17</td>\n",
       "      <td>Closed with explanation</td>\n",
       "      <td>Yes</td>\n",
       "      <td>NaN</td>\n",
       "      <td>7340709</td>\n",
       "    </tr>\n",
       "    <tr>\n",
       "      <th>5167780</th>\n",
       "      <td>2023-08-02</td>\n",
       "      <td>Credit reporting, credit repair services, or o...</td>\n",
       "      <td>Credit reporting</td>\n",
       "      <td>Improper use of your report</td>\n",
       "      <td>Reporting company used your report improperly</td>\n",
       "      <td>NaN</td>\n",
       "      <td>NaN</td>\n",
       "      <td>EQUIFAX, INC.</td>\n",
       "      <td>GA</td>\n",
       "      <td>30013</td>\n",
       "      <td>NaN</td>\n",
       "      <td>Consent not provided</td>\n",
       "      <td>Web</td>\n",
       "      <td>2023-08-02</td>\n",
       "      <td>Closed with explanation</td>\n",
       "      <td>Yes</td>\n",
       "      <td>NaN</td>\n",
       "      <td>7341166</td>\n",
       "    </tr>\n",
       "    <tr>\n",
       "      <th>5167781</th>\n",
       "      <td>2023-08-04</td>\n",
       "      <td>Payday loan, title loan, or personal loan</td>\n",
       "      <td>Payday loan</td>\n",
       "      <td>Charged fees or interest you didn't expect</td>\n",
       "      <td>NaN</td>\n",
       "      <td>NaN</td>\n",
       "      <td>NaN</td>\n",
       "      <td>Flandreau Santee Sioux Tribe</td>\n",
       "      <td>TX</td>\n",
       "      <td>75057</td>\n",
       "      <td>NaN</td>\n",
       "      <td>Consent not provided</td>\n",
       "      <td>Web</td>\n",
       "      <td>2023-08-18</td>\n",
       "      <td>Closed with explanation</td>\n",
       "      <td>Yes</td>\n",
       "      <td>NaN</td>\n",
       "      <td>7350142</td>\n",
       "    </tr>\n",
       "  </tbody>\n",
       "</table>\n",
       "<p>5167782 rows × 18 columns</p>\n",
       "</div>"
      ],
      "text/plain": [
       "        Date received                                            Product  \\\n",
       "0          2024-01-24  Credit reporting or other personal consumer re...   \n",
       "1          2024-02-26                                    Debt collection   \n",
       "2          2024-02-26  Credit reporting or other personal consumer re...   \n",
       "3          2024-02-20  Credit reporting or other personal consumer re...   \n",
       "4          2024-01-26  Credit reporting or other personal consumer re...   \n",
       "...               ...                                                ...   \n",
       "5167777    2023-08-02  Credit reporting, credit repair services, or o...   \n",
       "5167778    2023-08-02          Payday loan, title loan, or personal loan   \n",
       "5167779    2023-08-02                                           Mortgage   \n",
       "5167780    2023-08-02  Credit reporting, credit repair services, or o...   \n",
       "5167781    2023-08-04          Payday loan, title loan, or personal loan   \n",
       "\n",
       "              Sub-product                                              Issue  \\\n",
       "0        Credit reporting               Incorrect information on your report   \n",
       "1              Other debt  Threatened to contact someone or share informa...   \n",
       "2        Credit reporting               Incorrect information on your report   \n",
       "3        Credit reporting                        Improper use of your report   \n",
       "4        Credit reporting               Incorrect information on your report   \n",
       "...                   ...                                                ...   \n",
       "5167777  Credit reporting               Incorrect information on your report   \n",
       "5167778  Installment loan  Problem with additional add-on products or ser...   \n",
       "5167779      FHA mortgage                         Struggling to pay mortgage   \n",
       "5167780  Credit reporting                        Improper use of your report   \n",
       "5167781       Payday loan         Charged fees or interest you didn't expect   \n",
       "\n",
       "                                             Sub-issue  \\\n",
       "0                        Account information incorrect   \n",
       "1              Talked to a third-party about your debt   \n",
       "2                  Information belongs to someone else   \n",
       "3        Reporting company used your report improperly   \n",
       "4                  Information belongs to someone else   \n",
       "...                                                ...   \n",
       "5167777            Information belongs to someone else   \n",
       "5167778                                            NaN   \n",
       "5167779                                            NaN   \n",
       "5167780  Reporting company used your report improperly   \n",
       "5167781                                            NaN   \n",
       "\n",
       "                              Consumer complaint narrative  \\\n",
       "0                                                      NaN   \n",
       "1                                                      NaN   \n",
       "2                                                      NaN   \n",
       "3        I am disappointed to have received a credit re...   \n",
       "4        The companies, along with the credit reporting...   \n",
       "...                                                    ...   \n",
       "5167777                                                NaN   \n",
       "5167778                                                NaN   \n",
       "5167779                                                NaN   \n",
       "5167780                                                NaN   \n",
       "5167781                                                NaN   \n",
       "\n",
       "                                   Company public response  \\\n",
       "0        Company has responded to the consumer and the ...   \n",
       "1                                                      NaN   \n",
       "2        Company believes it acted appropriately as aut...   \n",
       "3                                                      NaN   \n",
       "4                                                      NaN   \n",
       "...                                                    ...   \n",
       "5167777                                                NaN   \n",
       "5167778                                                NaN   \n",
       "5167779  Company believes it acted appropriately as aut...   \n",
       "5167780                                                NaN   \n",
       "5167781                                                NaN   \n",
       "\n",
       "                                        Company State ZIP code Tags  \\\n",
       "0        TRANSUNION INTERMEDIATE HOLDINGS, INC.    FL    33578  NaN   \n",
       "1                         Marlette Funding, LLC    IL    60060  NaN   \n",
       "2                  CCS Financial Services, Inc.    NC    27536  NaN   \n",
       "3                                    LEXISNEXIS    CA    94124  NaN   \n",
       "4                                 EQUIFAX, INC.    NC    28804  NaN   \n",
       "...                                         ...   ...      ...  ...   \n",
       "5167777                           EQUIFAX, INC.    TX    76036  NaN   \n",
       "5167778                        NBT BANCORP INC.    NJ    08046  NaN   \n",
       "5167779                           Chesmar Homes    TX    77316  NaN   \n",
       "5167780                           EQUIFAX, INC.    GA    30013  NaN   \n",
       "5167781            Flandreau Santee Sioux Tribe    TX    75057  NaN   \n",
       "\n",
       "        Consumer consent provided? Submitted via Date sent to company  \\\n",
       "0             Consent not provided           Web           2024-01-24   \n",
       "1             Consent not provided           Web           2024-02-26   \n",
       "2             Consent not provided           Web           2024-02-26   \n",
       "3                 Consent provided           Web           2024-02-20   \n",
       "4                 Consent provided           Web           2024-01-26   \n",
       "...                            ...           ...                  ...   \n",
       "5167777                      Other           Web           2023-08-02   \n",
       "5167778                        NaN         Phone           2023-08-02   \n",
       "5167779                      Other           Web           2023-08-17   \n",
       "5167780       Consent not provided           Web           2023-08-02   \n",
       "5167781       Consent not provided           Web           2023-08-18   \n",
       "\n",
       "            Company response to consumer Timely response? Consumer disputed?  \\\n",
       "0                Closed with explanation              Yes                NaN   \n",
       "1                Closed with explanation              Yes                NaN   \n",
       "2        Closed with non-monetary relief              Yes                NaN   \n",
       "3                Closed with explanation              Yes                NaN   \n",
       "4        Closed with non-monetary relief              Yes                NaN   \n",
       "...                                  ...              ...                ...   \n",
       "5167777  Closed with non-monetary relief              Yes                NaN   \n",
       "5167778          Closed with explanation              Yes                NaN   \n",
       "5167779          Closed with explanation              Yes                NaN   \n",
       "5167780          Closed with explanation              Yes                NaN   \n",
       "5167781          Closed with explanation              Yes                NaN   \n",
       "\n",
       "         Complaint ID  \n",
       "0             8205544  \n",
       "1             8424268  \n",
       "2             8423775  \n",
       "3             8379830  \n",
       "4             8232435  \n",
       "...               ...  \n",
       "5167777       7337991  \n",
       "5167778       7343156  \n",
       "5167779       7340709  \n",
       "5167780       7341166  \n",
       "5167781       7350142  \n",
       "\n",
       "[5167782 rows x 18 columns]"
      ]
     },
     "execution_count": 14,
     "metadata": {},
     "output_type": "execute_result"
    }
   ],
   "source": [
    "df"
   ]
  },
  {
   "cell_type": "markdown",
   "metadata": {},
   "source": [
    "DATA Understanding\n"
   ]
  },
  {
   "cell_type": "code",
   "execution_count": 16,
   "metadata": {},
   "outputs": [
    {
     "data": {
      "text/plain": [
       "Date received                         0\n",
       "Product                               0\n",
       "Sub-product                      235292\n",
       "Issue                                 2\n",
       "Sub-issue                        735101\n",
       "Consumer complaint narrative    3351574\n",
       "Company public response         2693192\n",
       "Company                               0\n",
       "State                             45611\n",
       "ZIP code                          30225\n",
       "Tags                            4684932\n",
       "Consumer consent provided?      1026812\n",
       "Submitted via                         0\n",
       "Date sent to company                  0\n",
       "Company response to consumer         14\n",
       "Timely response?                      0\n",
       "Consumer disputed?              4399466\n",
       "Complaint ID                          0\n",
       "dtype: int64"
      ]
     },
     "execution_count": 16,
     "metadata": {},
     "output_type": "execute_result"
    }
   ],
   "source": [
    "df.isnull().sum()"
   ]
  },
  {
   "cell_type": "code",
   "execution_count": 17,
   "metadata": {},
   "outputs": [
    {
     "data": {
      "text/plain": [
       "Date received                      4539\n",
       "Product                              21\n",
       "Sub-product                          86\n",
       "Issue                               178\n",
       "Sub-issue                           272\n",
       "Consumer complaint narrative    1480084\n",
       "Company public response              11\n",
       "Company                            7204\n",
       "State                                63\n",
       "ZIP code                          33632\n",
       "Tags                                  3\n",
       "Consumer consent provided?            4\n",
       "Submitted via                         7\n",
       "Date sent to company               4488\n",
       "Company response to consumer          8\n",
       "Timely response?                      2\n",
       "Consumer disputed?                    2\n",
       "Complaint ID                    5167782\n",
       "dtype: int64"
      ]
     },
     "execution_count": 17,
     "metadata": {},
     "output_type": "execute_result"
    }
   ],
   "source": [
    "df.nunique()"
   ]
  },
  {
   "cell_type": "code",
   "execution_count": 18,
   "metadata": {},
   "outputs": [
    {
     "data": {
      "text/plain": [
       "Date received                   object\n",
       "Product                         object\n",
       "Sub-product                     object\n",
       "Issue                           object\n",
       "Sub-issue                       object\n",
       "Consumer complaint narrative    object\n",
       "Company public response         object\n",
       "Company                         object\n",
       "State                           object\n",
       "ZIP code                        object\n",
       "Tags                            object\n",
       "Consumer consent provided?      object\n",
       "Submitted via                   object\n",
       "Date sent to company            object\n",
       "Company response to consumer    object\n",
       "Timely response?                object\n",
       "Consumer disputed?              object\n",
       "Complaint ID                     int64\n",
       "dtype: object"
      ]
     },
     "execution_count": 18,
     "metadata": {},
     "output_type": "execute_result"
    }
   ],
   "source": [
    "df.dtypes"
   ]
  },
  {
   "cell_type": "code",
   "execution_count": 19,
   "metadata": {},
   "outputs": [
    {
     "name": "stdout",
     "output_type": "stream",
     "text": [
      "<class 'pandas.core.frame.DataFrame'>\n",
      "RangeIndex: 5167782 entries, 0 to 5167781\n",
      "Data columns (total 18 columns):\n",
      " #   Column                        Dtype \n",
      "---  ------                        ----- \n",
      " 0   Date received                 object\n",
      " 1   Product                       object\n",
      " 2   Sub-product                   object\n",
      " 3   Issue                         object\n",
      " 4   Sub-issue                     object\n",
      " 5   Consumer complaint narrative  object\n",
      " 6   Company public response       object\n",
      " 7   Company                       object\n",
      " 8   State                         object\n",
      " 9   ZIP code                      object\n",
      " 10  Tags                          object\n",
      " 11  Consumer consent provided?    object\n",
      " 12  Submitted via                 object\n",
      " 13  Date sent to company          object\n",
      " 14  Company response to consumer  object\n",
      " 15  Timely response?              object\n",
      " 16  Consumer disputed?            object\n",
      " 17  Complaint ID                  int64 \n",
      "dtypes: int64(1), object(17)\n",
      "memory usage: 709.7+ MB\n"
     ]
    }
   ],
   "source": [
    "df.info()"
   ]
  },
  {
   "cell_type": "code",
   "execution_count": 26,
   "metadata": {},
   "outputs": [
    {
     "name": "stdout",
     "output_type": "stream",
     "text": [
      "Index(['Date received', 'Product', 'Sub-product', 'Issue', 'Sub-issue',\n",
      "       'Consumer complaint narrative', 'Company public response', 'Company',\n",
      "       'State', 'ZIP code', 'Tags', 'Consumer consent provided?',\n",
      "       'Submitted via', 'Date sent to company', 'Company response to consumer',\n",
      "       'Timely response?', 'Consumer disputed?', 'Complaint ID'],\n",
      "      dtype='object')\n"
     ]
    }
   ],
   "source": [
    "\n",
    "print(df.columns)\n"
   ]
  },
  {
   "cell_type": "code",
   "execution_count": 28,
   "metadata": {},
   "outputs": [
    {
     "name": "stdout",
     "output_type": "stream",
     "text": [
      "  Date received                                            Product  \\\n",
      "0    2024-01-24  Credit reporting or other personal consumer re...   \n",
      "1    2024-02-26                                    Debt collection   \n",
      "2    2024-02-26  Credit reporting or other personal consumer re...   \n",
      "3    2024-02-20  Credit reporting or other personal consumer re...   \n",
      "4    2024-01-26  Credit reporting or other personal consumer re...   \n",
      "\n",
      "        Sub-product                                              Issue  \\\n",
      "0  Credit reporting               Incorrect information on your report   \n",
      "1        Other debt  Threatened to contact someone or share informa...   \n",
      "2  Credit reporting               Incorrect information on your report   \n",
      "3  Credit reporting                        Improper use of your report   \n",
      "4  Credit reporting               Incorrect information on your report   \n",
      "\n",
      "                                       Sub-issue  \\\n",
      "0                  Account information incorrect   \n",
      "1        Talked to a third-party about your debt   \n",
      "2            Information belongs to someone else   \n",
      "3  Reporting company used your report improperly   \n",
      "4            Information belongs to someone else   \n",
      "\n",
      "                        Consumer complaint narrative  \\\n",
      "0                                                NaN   \n",
      "1                                                NaN   \n",
      "2                                                NaN   \n",
      "3  I am disappointed to have received a credit re...   \n",
      "4  The companies, along with the credit reporting...   \n",
      "\n",
      "                             Company public response  \\\n",
      "0  Company has responded to the consumer and the ...   \n",
      "1                                                NaN   \n",
      "2  Company believes it acted appropriately as aut...   \n",
      "3                                                NaN   \n",
      "4                                                NaN   \n",
      "\n",
      "                                  Company State ZIP code Tags  \\\n",
      "0  TRANSUNION INTERMEDIATE HOLDINGS, INC.    FL    33578  NaN   \n",
      "1                   Marlette Funding, LLC    IL    60060  NaN   \n",
      "2            CCS Financial Services, Inc.    NC    27536  NaN   \n",
      "3                              LEXISNEXIS    CA    94124  NaN   \n",
      "4                           EQUIFAX, INC.    NC    28804  NaN   \n",
      "\n",
      "  Consumer consent provided? Submitted via Date sent to company  \\\n",
      "0       Consent not provided           Web           2024-01-24   \n",
      "1       Consent not provided           Web           2024-02-26   \n",
      "2       Consent not provided           Web           2024-02-26   \n",
      "3           Consent provided           Web           2024-02-20   \n",
      "4           Consent provided           Web           2024-01-26   \n",
      "\n",
      "      Company response to consumer Timely response? Consumer disputed?  \\\n",
      "0          Closed with explanation              Yes                NaN   \n",
      "1          Closed with explanation              Yes                NaN   \n",
      "2  Closed with non-monetary relief              Yes                NaN   \n",
      "3          Closed with explanation              Yes                NaN   \n",
      "4  Closed with non-monetary relief              Yes                NaN   \n",
      "\n",
      "   Complaint ID  \n",
      "0       8205544  \n",
      "1       8424268  \n",
      "2       8423775  \n",
      "3       8379830  \n",
      "4       8232435  \n"
     ]
    }
   ],
   "source": [
    "print(df.head())\n"
   ]
  },
  {
   "cell_type": "code",
   "execution_count": 33,
   "metadata": {},
   "outputs": [
    {
     "data": {
      "text/plain": [
       "(5167782, 18)"
      ]
     },
     "execution_count": 33,
     "metadata": {},
     "output_type": "execute_result"
    }
   ],
   "source": [
    "df.shape\n",
    "\n"
   ]
  },
  {
   "cell_type": "code",
   "execution_count": 35,
   "metadata": {},
   "outputs": [
    {
     "name": "stdout",
     "output_type": "stream",
     "text": [
      "Index(['Date received', 'Product', 'Sub-product', 'Issue', 'Sub-issue',\n",
      "       'Consumer complaint narrative', 'Company public response', 'Company',\n",
      "       'State', 'ZIP code', 'Tags', 'Consumer consent provided?',\n",
      "       'Submitted via', 'Date sent to company', 'Company response to consumer',\n",
      "       'Timely response?', 'Consumer disputed?', 'Complaint ID'],\n",
      "      dtype='object')\n"
     ]
    }
   ],
   "source": [
    "print(df.columns)\n"
   ]
  },
  {
   "cell_type": "code",
   "execution_count": 36,
   "metadata": {},
   "outputs": [
    {
     "name": "stderr",
     "output_type": "stream",
     "text": [
      "C:\\Users\\DELL\\AppData\\Local\\Temp\\ipykernel_2424\\2714272628.py:5: DtypeWarning: Columns (16) have mixed types. Specify dtype option on import or set low_memory=False.\n",
      "  df = pd.read_csv(\"C:/Users/DELL/Downloads/complaints.csv (1)/complaints.csv\")\n"
     ]
    },
    {
     "data": {
      "image/png": "[encoded data removed]",
      "text/plain": [
       "<Figure size 800x600 with 1 Axes>"
      ]
     },
     "metadata": {},
     "output_type": "display_data"
    }
   ],
   "source": [
    "import pandas as pd\n",
    "import matplotlib.pyplot as plt\n",
    "\n",
    "# Read the CSV file into a DataFrame\n",
    "df = pd.read_csv(\"C:/Users/DELL/Downloads/complaints.csv (1)/complaints.csv\")\n",
    "\n",
    "# Plot the data\n",
    "fig = plt.figure(figsize=(8, 6))\n",
    "df.groupby('Product')['Consumer complaint narrative'].count().plot.bar()\n",
    "plt.xlabel('Product')\n",
    "plt.ylabel('Number of Complaints')\n",
    "plt.title('Number of Consumer Complaints by Product')\n",
    "plt.xticks(rotation=45, ha='right')\n",
    "plt.show()\n"
   ]
  },
  {
   "cell_type": "code",
   "execution_count": 5,
   "metadata": {},
   "outputs": [],
   "source": [
    "from sklearn.feature_extraction.text import TfidfVectorizer\n"
   ]
  },
  {
   "cell_type": "code",
   "execution_count": 7,
   "metadata": {},
   "outputs": [
    {
     "name": "stdout",
     "output_type": "stream",
     "text": [
      "Requirement already satisfied: pandas in c:\\users\\dell\\appdata\\local\\programs\\python\\python311\\lib\\site-packages (2.1.0)\n",
      "Requirement already satisfied: numpy>=1.23.2 in c:\\users\\dell\\appdata\\local\\programs\\python\\python311\\lib\\site-packages (from pandas) (1.25.2)\n",
      "Requirement already satisfied: python-dateutil>=2.8.2 in c:\\users\\dell\\appdata\\local\\programs\\python\\python311\\lib\\site-packages (from pandas) (2.8.2)\n",
      "Requirement already satisfied: pytz>=2020.1 in c:\\users\\dell\\appdata\\local\\programs\\python\\python311\\lib\\site-packages (from pandas) (2023.3)\n",
      "Requirement already satisfied: tzdata>=2022.1 in c:\\users\\dell\\appdata\\local\\programs\\python\\python311\\lib\\site-packages (from pandas) (2023.3)\n",
      "Requirement already satisfied: six>=1.5 in c:\\users\\dell\\appdata\\local\\programs\\python\\python311\\lib\\site-packages (from python-dateutil>=2.8.2->pandas) (1.16.0)\n"
     ]
    },
    {
     "name": "stderr",
     "output_type": "stream",
     "text": [
      "C:\\Users\\DELL\\AppData\\Local\\Temp\\ipykernel_10208\\691119614.py:3: DtypeWarning: Columns (16) have mixed types. Specify dtype option on import or set low_memory=False.\n",
      "  df = pd.read_csv(\"C:/Users/DELL/Downloads/complaints.csv (1)/complaints.csv\")\n"
     ]
    },
    {
     "name": "stdout",
     "output_type": "stream",
     "text": [
      "Unexpected exception formatting exception. Falling back to standard exception\n"
     ]
    },
    {
     "name": "stderr",
     "output_type": "stream",
     "text": [
      "Traceback (most recent call last):\n",
      "  File \"c:\\Users\\DELL\\AppData\\Local\\Programs\\Python\\Python311\\Lib\\site-packages\\IPython\\core\\interactiveshell.py\", line 3464, in run_ast_nodes\n",
      "    code = compiler(mod, cell_name, mode)\n",
      "           ^^^^^^^^^^^^^^^^^^^^^^^^^^^^^^\n",
      "  File \"c:\\Users\\DELL\\AppData\\Local\\Programs\\Python\\Python311\\Lib\\codeop.py\", line -1, in __call__\n",
      "KeyboardInterrupt\n",
      "\n",
      "During handling of the above exception, another exception occurred:\n",
      "\n",
      "Traceback (most recent call last):\n",
      "  File \"c:\\Users\\DELL\\AppData\\Local\\Programs\\Python\\Python311\\Lib\\site-packages\\IPython\\core\\interactiveshell.py\", line 2120, in showtraceback\n",
      "    stb = self.InteractiveTB.structured_traceback(\n",
      "          ^^^^^^^^^^^^^^^^^^^^^^^^^^^^^^^^^^^^^^^^\n",
      "  File \"c:\\Users\\DELL\\AppData\\Local\\Programs\\Python\\Python311\\Lib\\site-packages\\IPython\\core\\ultratb.py\", line 1435, in structured_traceback\n",
      "    return FormattedTB.structured_traceback(\n",
      "           ^^^^^^^^^^^^^^^^^^^^^^^^^^^^^^^^^\n",
      "  File \"c:\\Users\\DELL\\AppData\\Local\\Programs\\Python\\Python311\\Lib\\site-packages\\IPython\\core\\ultratb.py\", line 1326, in structured_traceback\n",
      "    return VerboseTB.structured_traceback(\n",
      "           ^^^^^^^^^^^^^^^^^^^^^^^^^^^^^^^\n",
      "  File \"c:\\Users\\DELL\\AppData\\Local\\Programs\\Python\\Python311\\Lib\\site-packages\\IPython\\core\\ultratb.py\", line 1173, in structured_traceback\n",
      "    formatted_exception = self.format_exception_as_a_whole(etype, evalue, etb, number_of_lines_of_context,\n",
      "                          ^^^^^^^^^^^^^^^^^^^^^^^^^^^^^^^^^^^^^^^^^^^^^^^^^^^^^^^^^^^^^^^^^^^^^^^^^^^^^^^^\n",
      "  File \"c:\\Users\\DELL\\AppData\\Local\\Programs\\Python\\Python311\\Lib\\site-packages\\IPython\\core\\ultratb.py\", line 1088, in format_exception_as_a_whole\n",
      "    frames.append(self.format_record(record))\n",
      "                  ^^^^^^^^^^^^^^^^^^^^^^^^^^\n",
      "  File \"c:\\Users\\DELL\\AppData\\Local\\Programs\\Python\\Python311\\Lib\\site-packages\\IPython\\core\\ultratb.py\", line 970, in format_record\n",
      "    frame_info.lines, Colors, self.has_colors, lvals\n",
      "    ^^^^^^^^^^^^^^^^\n",
      "  File \"c:\\Users\\DELL\\AppData\\Local\\Programs\\Python\\Python311\\Lib\\site-packages\\IPython\\core\\ultratb.py\", line 792, in lines\n",
      "    return self._sd.lines\n",
      "           ^^^^^^^^^^^^^^\n",
      "  File \"c:\\Users\\DELL\\AppData\\Local\\Programs\\Python\\Python311\\Lib\\site-packages\\stack_data\\utils.py\", line 144, in cached_property_wrapper\n",
      "    value = obj.__dict__[self.func.__name__] = self.func(obj)\n",
      "                                               ^^^^^^^^^^^^^^\n",
      "  File \"c:\\Users\\DELL\\AppData\\Local\\Programs\\Python\\Python311\\Lib\\site-packages\\stack_data\\core.py\", line 734, in lines\n",
      "    pieces = self.included_pieces\n",
      "             ^^^^^^^^^^^^^^^^^^^^\n",
      "  File \"c:\\Users\\DELL\\AppData\\Local\\Programs\\Python\\Python311\\Lib\\site-packages\\stack_data\\utils.py\", line 144, in cached_property_wrapper\n",
      "    value = obj.__dict__[self.func.__name__] = self.func(obj)\n",
      "                                               ^^^^^^^^^^^^^^\n",
      "  File \"c:\\Users\\DELL\\AppData\\Local\\Programs\\Python\\Python311\\Lib\\site-packages\\stack_data\\core.py\", line 681, in included_pieces\n",
      "    pos = scope_pieces.index(self.executing_piece)\n",
      "                             ^^^^^^^^^^^^^^^^^^^^\n",
      "  File \"c:\\Users\\DELL\\AppData\\Local\\Programs\\Python\\Python311\\Lib\\site-packages\\stack_data\\utils.py\", line 144, in cached_property_wrapper\n",
      "    value = obj.__dict__[self.func.__name__] = self.func(obj)\n",
      "                                               ^^^^^^^^^^^^^^\n",
      "  File \"c:\\Users\\DELL\\AppData\\Local\\Programs\\Python\\Python311\\Lib\\site-packages\\stack_data\\core.py\", line 660, in executing_piece\n",
      "    return only(\n",
      "           ^^^^^\n",
      "  File \"c:\\Users\\DELL\\AppData\\Local\\Programs\\Python\\Python311\\Lib\\site-packages\\executing\\executing.py\", line 190, in only\n",
      "    raise NotOneValueFound('Expected one value, found 0')\n",
      "executing.executing.NotOneValueFound: Expected one value, found 0\n"
     ]
    }
   ],
   "source": [
    "!pip install pandas\n",
    "import pandas as pd\n",
    "df = pd.read_csv(\"C:/Users/DELL/Downloads/complaints.csv (1)/complaints.csv\")\n",
    "# Drop rows with missing values in the \"Consumer complaint narrative\" column\n",
    "df.dropna(subset=['Consumer complaint narrative'], inplace=True)\n",
    "\n",
    "# Initialize TfidfVectorizer\n",
    "tfidf_vect = TfidfVectorizer(analyzer='word', token_pattern='\\w{1,}', max_features=5000)\n",
    "\n",
    "# Fit and transform the consumer complaint narratives into TF-IDF features\n",
    "tfidf_vect.fit(df['Consumer complaint narrative'])\n",
    "Features = tfidf_vect.transform(df['Consumer complaint narrative'])\n",
    "\n",
    "# Initialize LabelEncoder\n",
    "encoder = preprocessing.LabelEncoder()\n",
    "\n",
    "# Fit and transform the 'Product' column into numerical labels\n",
    "Labels1 = encoder.fit_transform(df['Product'])\n"
   ]
  },
  {
   "cell_type": "code",
   "execution_count": 1,
   "metadata": {},
   "outputs": [
    {
     "name": "stdout",
     "output_type": "stream",
     "text": [
      "Example 1 output: 3\n",
      "Example 2 output: 1\n"
     ]
    }
   ],
   "source": [
    "#2. Given an unsorted array of integers, find the length of the longest continuous\n",
    "#increasing subsequence (subarray).\n",
    "\n",
    "def findLengthOfLCIS(nums):\n",
    "    if not nums:\n",
    "        return 0\n",
    "    \n",
    "    max_length = 1\n",
    "    current_length = 1\n",
    "    \n",
    "    for i in range(1, len(nums)):\n",
    "        if nums[i] > nums[i - 1]:\n",
    "            current_length += 1\n",
    "            max_length = max(max_length, current_length)\n",
    "        else:\n",
    "            current_length = 1\n",
    "    \n",
    "    return max_length\n",
    "\n",
    "# Example usage:\n",
    "input1 = [1, 3, 5, 4, 7]\n",
    "input2 = [2, 2, 2, 2, 2]\n",
    "\n",
    "print(\"Example 1 output:\", findLengthOfLCIS(input1))  # Output: 3\n",
    "print(\"Example 2 output:\", findLengthOfLCIS(input2))  # Output: 1\n",
    "\n",
    "\n"
   ]
  },
  {
   "cell_type": "code",
   "execution_count": 3,
   "metadata": {},
   "outputs": [
    {
     "name": "stdout",
     "output_type": "stream",
     "text": [
      "Example 1 output: 210\n",
      "Example 2 output: 9534330\n"
     ]
    }
   ],
   "source": [
    "#3.Given a list of non negative integers, arrange them such that they form the largest\n",
    "#number.\n",
    "\n",
    "from functools import cmp_to_key\n",
    "\n",
    "def largestNumber(nums):\n",
    "    # Define a custom comparison function for sorting\n",
    "    def compare(a, b):\n",
    "        return int(b + a) - int(a + b)\n",
    "\n",
    "    # Convert numbers to strings for comparison\n",
    "    nums = [str(num) for num in nums]\n",
    "    \n",
    "    # Sort the numbers using the custom comparison function\n",
    "    nums.sort(key=cmp_to_key(compare))\n",
    "    \n",
    "    # Handle case where all elements are 0\n",
    "    if nums[0] == '0':\n",
    "        return '0'\n",
    "    \n",
    "    # Concatenate the sorted numbers and return\n",
    "    return ''.join(nums)\n",
    "\n",
    "# Example usage:\n",
    "input1 = [10, 2]\n",
    "input2 = [3, 30, 34, 5, 9]\n",
    "\n",
    "print(\"Example 1 output:\", largestNumber(input1))  # Output: \"210\"\n",
    "print(\"Example 2 output:\", largestNumber(input2))  # Output: \"9534330\"\n"
   ]
  },
  {
   "cell_type": "code",
   "execution_count": null,
   "metadata": {},
   "outputs": [],
   "source": [
    "#4. Store all the &quot;servlet-name&quot;, and &quot;servlet-class&quot; to a csv file from the attached\n",
    "#sample_json.json file using Python."
   ]
  },
  {
   "cell_type": "code",
   "execution_count": 5,
   "metadata": {},
   "outputs": [
    {
     "name": "stdout",
     "output_type": "stream",
     "text": [
      "Data has been successfully stored in servlet_data.csv file.\n"
     ]
    }
   ],
   "source": [
    "import json\n",
    "import csv\n",
    "\n",
    "# Read the JSON file\n",
    "with open('C:/Users/DELL/Downloads/DT A1 sample_json (1) (1).json') as json_file:\n",
    "    data = json.load(json_file)\n",
    "\n",
    "# Extract \"servlet-name\" and \"servlet-class\" from the JSON data\n",
    "servlet_data = [(servlet['servlet-name'], servlet['servlet-class']) for servlet in data['web-app']['servlet']]\n",
    "\n",
    "# Write the extracted data to a CSV file\n",
    "with open('servlet_data.csv', 'w', newline='') as csv_file:\n",
    "    writer = csv.writer(csv_file)\n",
    "    # Write header\n",
    "    writer.writerow(['servlet-name', 'servlet-class'])\n",
    "    # Write data\n",
    "    writer.writerows(servlet_data)\n",
    "\n",
    "print(\"Data has been successfully stored in servlet_data.csv file.\")\n"
   ]
  }
 ],
 "metadata": {
  "kernelspec": {
   "display_name": "Python 3",
   "language": "python",
   "name": "python3"
  },
  "language_info": {
   "codemirror_mode": {
    "name": "ipython",
    "version": 3
   },
   "file_extension": ".py",
   "mimetype": "text/x-python",
   "name": "python",
   "nbconvert_exporter": "python",
   "pygments_lexer": "ipython3",
   "version": "3.11.5"
  }
 },
 "nbformat": 4,
 "nbformat_minor": 2
}
